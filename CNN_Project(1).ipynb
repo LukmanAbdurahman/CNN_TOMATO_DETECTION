https://drive.google.com/file/d/1bTV6rAbs0ujhfJa-9d1pl0qJNx4jESrx/view?usp=sharing
